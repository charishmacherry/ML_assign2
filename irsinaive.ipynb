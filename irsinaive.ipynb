{
 "cells": [
  {
   "cell_type": "code",
   "execution_count": 2,
   "metadata": {
    "colab": {
     "base_uri": "https://localhost:8080/"
    },
    "id": "6pN1gWd-1IRL",
    "outputId": "c83d9e6f-9890-42bc-cb94-4f02767a3236"
   },
   "outputs": [
    {
     "name": "stdout",
     "output_type": "stream",
     "text": [
      "fatal: destination path 'ML_assign2' already exists and is not an empty directory.\r\n"
     ]
    }
   ],
   "source": [
    "import pandas as pd\n",
    "import numpy as np\n",
    "\n",
    "!git clone https://github.com/charishmacherry/ML_assign2.git"
   ]
  },
  {
   "cell_type": "code",
   "execution_count": 5,
   "metadata": {
    "colab": {
     "base_uri": "https://localhost:8080/"
    },
    "id": "Kd1s_xZCQoGc",
    "outputId": "5d57d5e5-b9b2-4dbe-d84c-e91a5278cba0"
   },
   "outputs": [
    {
     "data": {
      "text/plain": [
       "0         Iris-setosa\n",
       "1         Iris-setosa\n",
       "2         Iris-setosa\n",
       "3         Iris-setosa\n",
       "4         Iris-setosa\n",
       "            ...      \n",
       "145    Iris-virginica\n",
       "146    Iris-virginica\n",
       "147    Iris-virginica\n",
       "148    Iris-virginica\n",
       "149    Iris-virginica\n",
       "Name: Species, Length: 150, dtype: object"
      ]
     },
     "execution_count": 5,
     "metadata": {},
     "output_type": "execute_result"
    }
   ],
   "source": [
    "dataset = pd.read_csv('ML_assign2/Iris.csv')\n",
    "dataset['Species']"
   ]
  },
  {
   "cell_type": "code",
   "execution_count": 6,
   "metadata": {
    "colab": {
     "base_uri": "https://localhost:8080/"
    },
    "id": "8-gnNaNbSILI",
    "outputId": "7ceb4a46-8091-4966-bae4-84584aa260e3"
   },
   "outputs": [
    {
     "data": {
      "text/plain": [
       "array([0, 0, 0, 0, 0, 0, 0, 0, 0, 0, 0, 0, 0, 0, 0, 0, 0, 0, 0, 0, 0, 0,\n",
       "       0, 0, 0, 0, 0, 0, 0, 0, 0, 0, 0, 0, 0, 0, 0, 0, 0, 0, 0, 0, 0, 0,\n",
       "       0, 0, 0, 0, 0, 0, 1, 1, 1, 1, 1, 1, 1, 1, 1, 1, 1, 1, 1, 1, 1, 1,\n",
       "       1, 1, 1, 1, 1, 1, 1, 1, 1, 1, 1, 1, 1, 1, 1, 1, 1, 1, 1, 1, 1, 1,\n",
       "       1, 1, 1, 1, 1, 1, 1, 1, 1, 1, 1, 1, 2, 2, 2, 2, 2, 2, 2, 2, 2, 2,\n",
       "       2, 2, 2, 2, 2, 2, 2, 2, 2, 2, 2, 2, 2, 2, 2, 2, 2, 2, 2, 2, 2, 2,\n",
       "       2, 2, 2, 2, 2, 2, 2, 2, 2, 2, 2, 2, 2, 2, 2, 2, 2, 2])"
      ]
     },
     "execution_count": 6,
     "metadata": {},
     "output_type": "execute_result"
    }
   ],
   "source": [
    "from sklearn.datasets import load_iris\n",
    "iris = load_iris()\n",
    "df = iris.data\n",
    "sepal_length = df.T[0]\n",
    "sepal_width = df.T[1]\n",
    "petal_length = df.T[2]\n",
    "petal_width = df.T[3]\n",
    "\n",
    "X,Y = iris.data,iris.target\n",
    "Y"
   ]
  },
  {
   "cell_type": "code",
   "execution_count": 7,
   "metadata": {
    "id": "OepbdxcIaw50"
   },
   "outputs": [],
   "source": [
    "from math import sqrt\n",
    "\n",
    "#mean of all the features\n",
    "sepal_length_mean = sum(dataset['SepalLengthCm']) / float(len(dataset['SepalLengthCm']))\n",
    "sepal_width_mean = sum(dataset['SepalWidthCm']) / float(len(dataset['SepalWidthCm']))\n",
    "petal_length_mean = sum(dataset['PetalLengthCm']) / float(len(dataset['PetalLengthCm']))\n",
    "petal_width_mean = sum(dataset['PetalWidthCm']) / float(len(dataset['PetalWidthCm']))\n",
    "\n",
    "#Std for the features\n",
    "sepal_length_var = sqrt(sum([(x - sepal_length_mean)**2 for x in dataset['SepalLengthCm']]) / float(len(dataset['SepalLengthCm']) - 1))\n",
    "sepal_width_var = sqrt(sum([(x - sepal_width_mean)**2 for x in dataset['SepalWidthCm']]) / float(len(dataset['SepalWidthCm']) - 1))\n",
    "petal_length_var = sqrt(sum([(x - petal_length_mean)**2 for x in dataset['PetalLengthCm']]) / float(len(dataset['PetalLengthCm']) - 1))\n",
    "petal_width_var = sqrt(sum([(x - petal_width_mean)**2 for x in dataset['PetalWidthCm']]) / float(len(dataset['PetalWidthCm']) - 1))\n",
    "\n",
    "summary = [(sepal_length_mean, sepal_width_mean, petal_length_mean, petal_width_mean, len(dataset)),(sepal_length_var, sepal_width_var, petal_length_var, petal_width_var, len(dataset))]\n",
    "#print(summary)\n",
    "\n",
    "#separate by class\n",
    "def seperate_by_class(dataset):\n",
    "  setosa = dataset[dataset['Species'] == \"Iris-setosa\"]\n",
    "  versicolor = dataset[dataset['Species'] == \"Iris-versicolor\"]\n",
    "  virginica = dataset[dataset['Species'] == \"Iris-virginica\"]\n",
    "  return setosa, versicolor, virginica\n",
    "\n",
    "def mean_std_each_class(dataset):\n",
    "  setosa, versicolor, virginica = seperate_by_class(dataset)\n",
    "  mean_each_class = {}\n",
    "  std_each_class = {}\n",
    "  di ={\"Iris-setosa\":setosa,\"Iris-versicolor\":versicolor,\"Iris-virginica\":virginica}\n",
    "\n",
    "  for key, value in di.items():\n",
    "    for j in ['SepalLengthCm', 'SepalWidthCm', 'PetalLengthCm', 'PetalWidthCm']:\n",
    "      mean_each_class[key+'_'+str(j)] = sum(value[j].values) / float(len(value[j].values))\n",
    "      std_each_class[key+'_'+str(j)] = sqrt(sum([(x - mean_each_class[key + '_'+str(j)])**2 for x in value[j].values]) / float(len(value[j])-1))\n",
    "  return mean_each_class,std_each_class\n",
    "\n",
    "# setosa:[(slm, slv, len(d)), (swm,swv,len(d)),(plm,pwv,len(d)),(pwm,pwv,len(d))]\n",
    "def summarize_each_class(dataset):\n",
    "  mean_each_class, std_each_class = mean_std_each_class(dataset)\n",
    "  di={}\n",
    "  for target_class_name in [\"Iris-setosa\",\"Iris-versicolor\",\"Iris-virginica\"]:\n",
    "    li = []\n",
    "    for j in ['SepalLengthCm', 'SepalWidthCm', 'PetalLengthCm', 'PetalWidthCm']:\n",
    "      li.append((mean_each_class[target_class_name+'_'+j],std_each_class[target_class_name+'_'+j],int(len(dataset)/3))) #3 refers to number of classes\n",
    "    di[target_class_name] = li\n",
    "  return di\n",
    "\n",
    "def naive_bayes(dataset):\n",
    "  summaries = summarize_each_class(dataset)\n",
    "  return summaries"
   ]
  },
  {
   "cell_type": "code",
   "execution_count": 8,
   "metadata": {
    "id": "-xHWg_L79l2V"
   },
   "outputs": [],
   "source": [
    "from math import sqrt\n",
    "from math import exp\n",
    "from math import pi\n",
    "def calculate_probability(x, mean, stdev):\n",
    "\texponent = exp(-((x-mean)**2 / (2 * stdev**2 )))\n",
    "\treturn (1 / (sqrt(2 * pi) * stdev)) * exponent\n",
    "\n",
    "# Calculate the probabilities of predicting each class for a given row\n",
    "def calculate_class_probabilities(summaries, row):\n",
    "\ttotal_rows = sum([summaries[label][0][2] for label in summaries])\n",
    "\tprobabilities = dict()\n",
    "\tfor class_value, class_summaries in summaries.items():\n",
    "\t\tprobabilities[class_value] = summaries[class_value][0][2]/float(total_rows)\n",
    "\t\tfor i in range(len(class_summaries)):\n",
    "\t\t\tmean, stdev, _ = class_summaries[i]\n",
    "\t\t\tprobabilities[class_value] *= calculate_probability(row[i], mean, stdev)\n",
    "\treturn probabilities"
   ]
  },
  {
   "cell_type": "code",
   "execution_count": 17,
   "metadata": {
    "id": "m7mkrdhOWW9b"
   },
   "outputs": [],
   "source": [
    "def create_train_test(dataset):\n",
    "    spli=[]\n",
    "    for i in range(50):\n",
    "        if i <30:\n",
    "            spli.append('train')\n",
    "        else:\n",
    "            spli.append('test')\n",
    "\n",
    "    setosa, versicolor, virginica = seperate_by_class(dataset)\n",
    "    setosa['split']=spli\n",
    "    versicolor['split']=spli\n",
    "    virginica['split']=spli\n",
    "\n",
    "    df = pd.DataFrame()\n",
    "    df = df.append([setosa,versicolor,virginica])\n",
    "    return df"
   ]
  },
  {
   "cell_type": "code",
   "execution_count": 18,
   "metadata": {
    "colab": {
     "base_uri": "https://localhost:8080/"
    },
    "id": "vnZFrwwj_L1T",
    "outputId": "fc381bf3-6bb8-4de4-a2e9-74a927ca52f4"
   },
   "outputs": [
    {
     "name": "stderr",
     "output_type": "stream",
     "text": [
      "/Library/Frameworks/Python.framework/Versions/3.6/lib/python3.6/site-packages/ipykernel_launcher.py:10: SettingWithCopyWarning: \n",
      "A value is trying to be set on a copy of a slice from a DataFrame.\n",
      "Try using .loc[row_indexer,col_indexer] = value instead\n",
      "\n",
      "See the caveats in the documentation: http://pandas.pydata.org/pandas-docs/stable/user_guide/indexing.html#returning-a-view-versus-a-copy\n",
      "  # Remove the CWD from sys.path while we load stuff.\n",
      "/Library/Frameworks/Python.framework/Versions/3.6/lib/python3.6/site-packages/ipykernel_launcher.py:11: SettingWithCopyWarning: \n",
      "A value is trying to be set on a copy of a slice from a DataFrame.\n",
      "Try using .loc[row_indexer,col_indexer] = value instead\n",
      "\n",
      "See the caveats in the documentation: http://pandas.pydata.org/pandas-docs/stable/user_guide/indexing.html#returning-a-view-versus-a-copy\n",
      "  # This is added back by InteractiveShellApp.init_path()\n",
      "/Library/Frameworks/Python.framework/Versions/3.6/lib/python3.6/site-packages/ipykernel_launcher.py:12: SettingWithCopyWarning: \n",
      "A value is trying to be set on a copy of a slice from a DataFrame.\n",
      "Try using .loc[row_indexer,col_indexer] = value instead\n",
      "\n",
      "See the caveats in the documentation: http://pandas.pydata.org/pandas-docs/stable/user_guide/indexing.html#returning-a-view-versus-a-copy\n",
      "  if sys.path[0] == '':\n"
     ]
    },
    {
     "data": {
      "text/plain": [
       "train    90\n",
       "test     60\n",
       "Name: split, dtype: int64"
      ]
     },
     "execution_count": 18,
     "metadata": {},
     "output_type": "execute_result"
    }
   ],
   "source": [
    "df = create_train_test(dataset) \n",
    "df['split'].value_counts()"
   ]
  },
  {
   "cell_type": "code",
   "execution_count": 19,
   "metadata": {
    "id": "XGzmWVD9XWb7"
   },
   "outputs": [],
   "source": [
    "train = df[df['split']=='train']\n",
    "test = df[df['split']=='test']\n",
    "train = train.drop(['split','Id'], axis=1)\n",
    "test = test.drop(['split','Id'], axis=1)"
   ]
  },
  {
   "cell_type": "code",
   "execution_count": 20,
   "metadata": {
    "colab": {
     "base_uri": "https://localhost:8080/",
     "height": 204
    },
    "id": "q9GMtGYi_gZP",
    "outputId": "11241d13-9551-4308-e5ef-f5749e638c12"
   },
   "outputs": [
    {
     "data": {
      "text/html": [
       "<div>\n",
       "<style scoped>\n",
       "    .dataframe tbody tr th:only-of-type {\n",
       "        vertical-align: middle;\n",
       "    }\n",
       "\n",
       "    .dataframe tbody tr th {\n",
       "        vertical-align: top;\n",
       "    }\n",
       "\n",
       "    .dataframe thead th {\n",
       "        text-align: right;\n",
       "    }\n",
       "</style>\n",
       "<table border=\"1\" class=\"dataframe\">\n",
       "  <thead>\n",
       "    <tr style=\"text-align: right;\">\n",
       "      <th></th>\n",
       "      <th>SepalLengthCm</th>\n",
       "      <th>SepalWidthCm</th>\n",
       "      <th>PetalLengthCm</th>\n",
       "      <th>PetalWidthCm</th>\n",
       "      <th>Species</th>\n",
       "    </tr>\n",
       "  </thead>\n",
       "  <tbody>\n",
       "    <tr>\n",
       "      <td>30</td>\n",
       "      <td>4.8</td>\n",
       "      <td>3.1</td>\n",
       "      <td>1.6</td>\n",
       "      <td>0.2</td>\n",
       "      <td>Iris-setosa</td>\n",
       "    </tr>\n",
       "    <tr>\n",
       "      <td>31</td>\n",
       "      <td>5.4</td>\n",
       "      <td>3.4</td>\n",
       "      <td>1.5</td>\n",
       "      <td>0.4</td>\n",
       "      <td>Iris-setosa</td>\n",
       "    </tr>\n",
       "    <tr>\n",
       "      <td>32</td>\n",
       "      <td>5.2</td>\n",
       "      <td>4.1</td>\n",
       "      <td>1.5</td>\n",
       "      <td>0.1</td>\n",
       "      <td>Iris-setosa</td>\n",
       "    </tr>\n",
       "    <tr>\n",
       "      <td>33</td>\n",
       "      <td>5.5</td>\n",
       "      <td>4.2</td>\n",
       "      <td>1.4</td>\n",
       "      <td>0.2</td>\n",
       "      <td>Iris-setosa</td>\n",
       "    </tr>\n",
       "    <tr>\n",
       "      <td>34</td>\n",
       "      <td>4.9</td>\n",
       "      <td>3.1</td>\n",
       "      <td>1.5</td>\n",
       "      <td>0.1</td>\n",
       "      <td>Iris-setosa</td>\n",
       "    </tr>\n",
       "  </tbody>\n",
       "</table>\n",
       "</div>"
      ],
      "text/plain": [
       "    SepalLengthCm  SepalWidthCm  PetalLengthCm  PetalWidthCm      Species\n",
       "30            4.8           3.1            1.6           0.2  Iris-setosa\n",
       "31            5.4           3.4            1.5           0.4  Iris-setosa\n",
       "32            5.2           4.1            1.5           0.1  Iris-setosa\n",
       "33            5.5           4.2            1.4           0.2  Iris-setosa\n",
       "34            4.9           3.1            1.5           0.1  Iris-setosa"
      ]
     },
     "execution_count": 20,
     "metadata": {},
     "output_type": "execute_result"
    }
   ],
   "source": [
    "test.head()"
   ]
  },
  {
   "cell_type": "code",
   "execution_count": 21,
   "metadata": {
    "colab": {
     "base_uri": "https://localhost:8080/",
     "height": 204
    },
    "id": "eU3rDBur_1bs",
    "outputId": "89765a88-6346-4e6b-c6a0-02ba15f146cb"
   },
   "outputs": [
    {
     "data": {
      "text/html": [
       "<div>\n",
       "<style scoped>\n",
       "    .dataframe tbody tr th:only-of-type {\n",
       "        vertical-align: middle;\n",
       "    }\n",
       "\n",
       "    .dataframe tbody tr th {\n",
       "        vertical-align: top;\n",
       "    }\n",
       "\n",
       "    .dataframe thead th {\n",
       "        text-align: right;\n",
       "    }\n",
       "</style>\n",
       "<table border=\"1\" class=\"dataframe\">\n",
       "  <thead>\n",
       "    <tr style=\"text-align: right;\">\n",
       "      <th></th>\n",
       "      <th>SepalLengthCm</th>\n",
       "      <th>SepalWidthCm</th>\n",
       "      <th>PetalLengthCm</th>\n",
       "      <th>PetalWidthCm</th>\n",
       "      <th>Species</th>\n",
       "    </tr>\n",
       "  </thead>\n",
       "  <tbody>\n",
       "    <tr>\n",
       "      <td>0</td>\n",
       "      <td>4.8</td>\n",
       "      <td>3.1</td>\n",
       "      <td>1.6</td>\n",
       "      <td>0.2</td>\n",
       "      <td>Iris-setosa</td>\n",
       "    </tr>\n",
       "    <tr>\n",
       "      <td>1</td>\n",
       "      <td>5.4</td>\n",
       "      <td>3.4</td>\n",
       "      <td>1.5</td>\n",
       "      <td>0.4</td>\n",
       "      <td>Iris-setosa</td>\n",
       "    </tr>\n",
       "    <tr>\n",
       "      <td>2</td>\n",
       "      <td>5.2</td>\n",
       "      <td>4.1</td>\n",
       "      <td>1.5</td>\n",
       "      <td>0.1</td>\n",
       "      <td>Iris-setosa</td>\n",
       "    </tr>\n",
       "    <tr>\n",
       "      <td>3</td>\n",
       "      <td>5.5</td>\n",
       "      <td>4.2</td>\n",
       "      <td>1.4</td>\n",
       "      <td>0.2</td>\n",
       "      <td>Iris-setosa</td>\n",
       "    </tr>\n",
       "    <tr>\n",
       "      <td>4</td>\n",
       "      <td>4.9</td>\n",
       "      <td>3.1</td>\n",
       "      <td>1.5</td>\n",
       "      <td>0.1</td>\n",
       "      <td>Iris-setosa</td>\n",
       "    </tr>\n",
       "  </tbody>\n",
       "</table>\n",
       "</div>"
      ],
      "text/plain": [
       "   SepalLengthCm  SepalWidthCm  PetalLengthCm  PetalWidthCm      Species\n",
       "0            4.8           3.1            1.6           0.2  Iris-setosa\n",
       "1            5.4           3.4            1.5           0.4  Iris-setosa\n",
       "2            5.2           4.1            1.5           0.1  Iris-setosa\n",
       "3            5.5           4.2            1.4           0.2  Iris-setosa\n",
       "4            4.9           3.1            1.5           0.1  Iris-setosa"
      ]
     },
     "execution_count": 21,
     "metadata": {},
     "output_type": "execute_result"
    }
   ],
   "source": [
    "test = test.reset_index()\n",
    "test = test.drop(['index'],axis=1)\n",
    "\n",
    "test_actual = test['Species'].values\n",
    "len(test_actual)\n",
    "\n",
    "# test = test.drop(['Species'],axis=1)\n",
    "test.head()"
   ]
  },
  {
   "cell_type": "code",
   "execution_count": 22,
   "metadata": {
    "colab": {
     "base_uri": "https://localhost:8080/"
    },
    "id": "p7rUORfK_cvR",
    "outputId": "589e88c0-662e-4031-ee80-9fb3d19b4776"
   },
   "outputs": [
    {
     "data": {
      "text/plain": [
       "((90, 5), (60, 5))"
      ]
     },
     "execution_count": 22,
     "metadata": {},
     "output_type": "execute_result"
    }
   ],
   "source": [
    "train.shape,test.shape"
   ]
  },
  {
   "cell_type": "code",
   "execution_count": 23,
   "metadata": {
    "id": "TCwG2qj3AIGn"
   },
   "outputs": [],
   "source": [
    "summaries = naive_bayes(train)"
   ]
  },
  {
   "cell_type": "code",
   "execution_count": 24,
   "metadata": {
    "id": "QdWSp6l86oQZ"
   },
   "outputs": [],
   "source": [
    "def predict(summaries,lis):\n",
    "  probabilities = calculate_class_probabilities(summaries, lis)\n",
    "  max_value = max(probabilities.values())  # maximum value\n",
    "  max_keys = [k for k, v in probabilities.items() if v == max_value] # getting all keys containing the `maximum`\n",
    "  return max_keys[0],max_value"
   ]
  },
  {
   "cell_type": "code",
   "execution_count": 33,
   "metadata": {
    "id": "cyH0-FJRCnaN"
   },
   "outputs": [],
   "source": [
    "predicted = [];predicted_prob=[]\n",
    "for i in range(len(test)):\n",
    "  res, prob = predict(summaries ,test.iloc[i].values)\n",
    "  predicted.append(res)\n",
    "  predicted_prob.append(prob)"
   ]
  },
  {
   "cell_type": "code",
   "execution_count": 26,
   "metadata": {
    "id": "9vD6sUaED-xI"
   },
   "outputs": [],
   "source": [
    "def accuracy(test_set, predicted):\n",
    "    correct = 0\n",
    "    actual = test_set\n",
    "    for x, y in zip(actual, predicted):\n",
    "        if x == y:\n",
    "            correct += 1\n",
    "    return correct / float(len(test_set))\n",
    "\n",
    "def classwise_accuracy(test_set, predicted,group):\n",
    "    accuracies = []\n",
    "    for gr in group:\n",
    "        print(\"------\")\n",
    "        print(gr)\n",
    "        correct = 0\n",
    "        incorrect = 0\n",
    "        accuracy = 0\n",
    "        fn = 0\n",
    "        tn = 0\n",
    "        tpr = 0\n",
    "        fpr = 0\n",
    "        actual = test_set\n",
    "        total = 0\n",
    "        for item in actual:\n",
    "            if item == gr:\n",
    "                total = total + 1\n",
    "        for x, y in zip(actual, predicted):\n",
    "            if x == y:\n",
    "                if x == gr:\n",
    "                    correct += 1  #tp\n",
    "                \n",
    "            if x != gr:\n",
    "                if y == gr:\n",
    "                    incorrect += 1   #fp \n",
    "            if x == gr:\n",
    "                if x != y:\n",
    "                    fn += 1    \n",
    "            if x != gr:\n",
    "                if y != gr:\n",
    "                    tn += 1 \n",
    "\n",
    "        print(correct)\n",
    "        print(fn)\n",
    "        accuracy = correct / total\n",
    "        tpr = correct / (correct+fn)\n",
    "        fpr = incorrect / (incorrect+tn)\n",
    "        accuracies.append({\"group\":gr,\"accuracy\":accuracy,\"tpr\":tpr,\"fpr\":fpr})\n",
    "    return accuracies"
   ]
  },
  {
   "cell_type": "code",
   "execution_count": 27,
   "metadata": {
    "colab": {
     "base_uri": "https://localhost:8080/"
    },
    "id": "numj26SoHEdV",
    "outputId": "3e906a11-590c-440a-c5c4-55ceac980408"
   },
   "outputs": [
    {
     "data": {
      "text/plain": [
       "0.9666666666666667"
      ]
     },
     "execution_count": 27,
     "metadata": {},
     "output_type": "execute_result"
    }
   ],
   "source": [
    "accuracy(test_actual,predicted)"
   ]
  },
  {
   "cell_type": "code",
   "execution_count": 28,
   "metadata": {
    "id": "UbQej7PNIHT7"
   },
   "outputs": [],
   "source": [
    "group = {}\n",
    "setosa, versicolor, virginica = seperate_by_class(test)\n",
    "group[\"Iris-setosa\"] = setosa\n",
    "group[\"Iris-versicolor\"] = versicolor\n",
    "group[\"Iris-virginica\"] = virginica"
   ]
  },
  {
   "cell_type": "code",
   "execution_count": 29,
   "metadata": {
    "colab": {
     "base_uri": "https://localhost:8080/"
    },
    "id": "8OJN9zbvHMBN",
    "outputId": "72cf1937-e17e-4961-e9f8-108c5ecd8cf4"
   },
   "outputs": [
    {
     "name": "stdout",
     "output_type": "stream",
     "text": [
      "------\n",
      "Iris-setosa\n",
      "20\n",
      "0\n",
      "------\n",
      "Iris-versicolor\n",
      "20\n",
      "0\n",
      "------\n",
      "Iris-virginica\n",
      "18\n",
      "2\n"
     ]
    }
   ],
   "source": [
    "classwise_accuracy1 = classwise_accuracy(test_actual, predicted,group)"
   ]
  },
  {
   "cell_type": "code",
   "execution_count": 32,
   "metadata": {},
   "outputs": [
    {
     "data": {
      "text/plain": [
       "[{'group': 'Iris-setosa', 'accuracy': 1.0, 'tpr': 1.0, 'fpr': 0.0},\n",
       " {'group': 'Iris-versicolor', 'accuracy': 1.0, 'tpr': 1.0, 'fpr': 0.05},\n",
       " {'group': 'Iris-virginica', 'accuracy': 0.9, 'tpr': 0.9, 'fpr': 0.0}]"
      ]
     },
     "execution_count": 32,
     "metadata": {},
     "output_type": "execute_result"
    }
   ],
   "source": [
    "classwise_accuracy1"
   ]
  },
  {
   "cell_type": "code",
   "execution_count": 30,
   "metadata": {
    "colab": {
     "base_uri": "https://localhost:8080/"
    },
    "id": "Yh5ODNsrGz4p",
    "outputId": "8225a368-42ec-4704-f817-4dfdf74b7317"
   },
   "outputs": [
    {
     "name": "stdout",
     "output_type": "stream",
     "text": [
      "Predicted        Iris-setosa  Iris-versicolor  Iris-virginica\n",
      "Actual                                                       \n",
      "Iris-setosa               20                0               0\n",
      "Iris-versicolor            0               20               0\n",
      "Iris-virginica             0                2              18\n"
     ]
    }
   ],
   "source": [
    "actual = pd.Series(test_actual, name='Actual')\n",
    "predicted = pd.Series(predicted, name='Predicted')\n",
    "df_confusion = pd.crosstab(actual, predicted)\n",
    "print(df_confusion)"
   ]
  },
  {
   "cell_type": "code",
   "execution_count": 31,
   "metadata": {
    "colab": {
     "base_uri": "https://localhost:8080/",
     "height": 911
    },
    "id": "L9jUS5tbJ90I",
    "outputId": "4337bb54-04b9-48e3-b94a-622b91b99bf7"
   },
   "outputs": [
    {
     "name": "stdout",
     "output_type": "stream",
     "text": [
      "1.0\n",
      "0.0\n"
     ]
    },
    {
     "data": {
      "image/png": "[encoded data removed]",
      "text/plain": [
       "<Figure size 432x288 with 1 Axes>"
      ]
     },
     "metadata": {
      "needs_background": "light"
     },
     "output_type": "display_data"
    },
    {
     "name": "stdout",
     "output_type": "stream",
     "text": [
      "1.0\n",
      "0.05\n"
     ]
    },
    {
     "data": {
      "image/png": "[encoded data removed]",
      "text/plain": [
       "<Figure size 432x288 with 1 Axes>"
      ]
     },
     "metadata": {
      "needs_background": "light"
     },
     "output_type": "display_data"
    },
    {
     "name": "stdout",
     "output_type": "stream",
     "text": [
      "0.9\n",
      "0.0\n"
     ]
    },
    {
     "data": {
      "image/png": "[encoded data removed]",
      "text/plain": [
       "<Figure size 432x288 with 1 Axes>"
      ]
     },
     "metadata": {
      "needs_background": "light"
     },
     "output_type": "display_data"
    }
   ],
   "source": [
    "%matplotlib inline\n",
    "from matplotlib import pyplot as plt\n",
    "# classwise_accuracy = classwise_accuracy(test_actual, predicted,group)\n",
    "for group in classwise_accuracy1:\n",
    "    print(group['tpr'])\n",
    "    print(group['fpr'])\n",
    "    plt.title('Receiver Operating Characteristic')\n",
    "    plt.plot(group['fpr'], group['tpr'], label = 'ROC')\n",
    "    plt.show(block=True)"
   ]
  }
 ],
 "metadata": {
  "colab": {
   "name": "IrisNaive.ipynb",
   "provenance": []
  },
  "kernelspec": {
   "display_name": "Python 3",
   "language": "python",
   "name": "python3"
  },
  "language_info": {
   "codemirror_mode": {
    "name": "ipython",
    "version": 3
   },
   "file_extension": ".py",
   "mimetype": "text/x-python",
   "name": "python",
   "nbconvert_exporter": "python",
   "pygments_lexer": "ipython3",
   "version": "3.6.7"
  }
 },
 "nbformat": 4,
 "nbformat_minor": 1
}
